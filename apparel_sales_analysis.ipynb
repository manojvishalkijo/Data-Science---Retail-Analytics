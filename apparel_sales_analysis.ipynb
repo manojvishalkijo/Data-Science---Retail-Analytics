{
 "cells": [
  {
   "cell_type": "markdown",
   "id": "2f17da2b",
   "metadata": {},
   "source": [
    "##"
   ]
  },
  {
   "cell_type": "code",
   "execution_count": null,
   "id": "90711526",
   "metadata": {},
   "outputs": [],
   "source": [
    "# Apparel Shop Sales Analysis"
   ]
  },
  {
   "cell_type": "code",
   "execution_count": null,
   "id": "e4eeef06",
   "metadata": {},
   "outputs": [],
   "source": [
    "1. Import Libraries\n",
    "import pandas as pd\n",
    "import matplotlib.pyplot as plt\n",
    "import seaborn as sns\n",
    "\n",
    "# Load dataset\n",
    "df = pd.read_csv('apparel_shop_sales.csv')\n",
    "df.head()"
   ]
  },
  {
   "cell_type": "code",
   "execution_count": null,
   "id": "6e07c077",
   "metadata": {},
   "outputs": [],
   "source": [
    "2. Basic Info\n",
    "df.info()\n",
    "df.describe()"
   ]
  },
  {
   "cell_type": "code",
   "execution_count": null,
   "id": "091ca2e0",
   "metadata": {},
   "outputs": [],
   "source": [
    "3. Sales Analysis\n",
    "# Total sales by product category\n",
    "sales_by_category = df.groupby('ProductCategory')['TotalAmount'].sum().sort_values(ascending=False)\n",
    "sales_by_category.plot(kind='bar', figsize=(8,5), title='Total Sales by Category')\n",
    "\n",
    "# Daily sales trend\n",
    "daily_sales = df.groupby('Date')['TotalAmount'].sum()\n",
    "daily_sales.plot(kind='line', figsize=(10,5), title='Daily Sales Trend')"
   ]
  },
  {
   "cell_type": "code",
   "execution_count": null,
   "id": "f12c9f54",
   "metadata": {},
   "outputs": [],
   "source": [
    "4. Customer Analysis\n",
    "# Gender-wise purchases\n",
    "sns.countplot(x='Gender', data=df)\n",
    "plt.title('Purchase Count by Gender')\n",
    "plt.show()\n",
    "\n",
    "# Age distribution\n",
    "sns.histplot(df['Age'], bins=10, kde=True)\n",
    "plt.title('Customer Age Distribution')\n",
    "plt.show()"
   ]
  },
  {
   "cell_type": "code",
   "execution_count": null,
   "id": "e33fefeb",
   "metadata": {},
   "outputs": [],
   "source": [
    "5. Inventory Insights\n",
    "# Popular sizes\n",
    "sns.countplot(x='Size', data=df)\n",
    "plt.title('Most Popular Sizes')\n",
    "plt.show()\n",
    "\n",
    "# Popular colors\n",
    "sns.countplot(x='Color', data=df, order=df['Color'].value_counts().index)\n",
    "plt.title('Most Popular Colors')\n",
    "plt.show()"
   ]
  },
  {
   "cell_type": "code",
   "execution_count": null,
   "id": "7d527d94",
   "metadata": {},
   "outputs": [],
   "source": [
    "6. Store Performance\n",
    "store_sales = df.groupby('StoreLocation')['TotalAmount'].sum().sort_values(ascending=False)\n",
    "store_sales.plot(kind='bar', figsize=(8,5), title='Sales by Store Location')"
   ]
  },
  {
   "cell_type": "code",
   "execution_count": null,
   "id": "d0e5c0e0",
   "metadata": {},
   "outputs": [],
   "source": [
    "7. Payment Analysis\n",
    "sns.countplot(x='PaymentMode', data=df, order=df['PaymentMode'].value_counts().index)\n",
    "plt.title('Payment Mode Preferences')\n",
    "plt.show()"
   ]
  },
  {
   "cell_type": "code",
   "execution_count": null,
   "id": "9dd7dee5",
   "metadata": {},
   "outputs": [],
   "source": [
    "8. Predictive Analysis (Example: Simple Regression for Sales Forecasting)\n",
    "from sklearn.linear_model import LinearRegression\n",
    "import numpy as np\n",
    "\n",
    "# Convert Date to ordinal\n",
    "df['Date'] = pd.to_datetime(df['Date'])\n",
    "df['DayNumber'] = df['Date'].map(pd.Timestamp.toordinal)\n",
    "\n",
    "# Group by DayNumber\n",
    "daily = df.groupby('DayNumber')['TotalAmount'].sum().reset_index()\n",
    "\n",
    "X = daily[['DayNumber']]\n",
    "y = daily['TotalAmount']\n",
    "\n",
    "model = LinearRegression()\n",
    "model.fit(X, y)\n",
    "\n",
    "# Predict next 7 days\n",
    "future_days = np.array(range(daily['DayNumber'].max()+1, daily['DayNumber'].max()+8)).reshape(-1,1)\n",
    "predictions = model.predict(future_days)\n",
    "\n",
    "plt.figure(figsize=(10,5))\n",
    "plt.plot(daily['DayNumber'], y, label='Actual Sales')\n",
    "plt.plot(future_days, predictions, label='Predicted Sales', linestyle='--')\n",
    "plt.legend()\n",
    "plt.title('Sales Forecasting (Linear Regression)')\n",
    "plt.show()"
   ]
  }
 ],
 "metadata": {},
 "nbformat": 4,
 "nbformat_minor": 5
}
